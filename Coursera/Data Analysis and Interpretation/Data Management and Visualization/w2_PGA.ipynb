{
  "nbformat": 4,
  "nbformat_minor": 0,
  "metadata": {
    "colab": {
      "name": "w2-PGA.ipynb",
      "provenance": []
    },
    "kernelspec": {
      "name": "python3",
      "display_name": "Python 3"
    }
  },
  "cells": [
    {
      "cell_type": "code",
      "metadata": {
        "id": "_QHjrd2yirvB"
      },
      "source": [
        "import numpy as np\n",
        "import pandas as pd"
      ],
      "execution_count": 1,
      "outputs": []
    },
    {
      "cell_type": "code",
      "metadata": {
        "id": "21hwkkm_pPKG",
        "outputId": "51c985ff-6857-4c4a-9046-f60b7da318ab",
        "colab": {
          "base_uri": "https://localhost:8080/",
          "height": 203
        }
      },
      "source": [
        "dataset = pd.read_csv(\"https://raw.githubusercontent.com/rmShoeb/MachineLearning/master/Datasets/diabetes_data.csv\")\n",
        "print(dataset.head())\n",
        "print(\"Number of rows: \"+str(len(dataset)))\n",
        "print(\"Number of columns: \"+str(len(dataset.columns)))"
      ],
      "execution_count": 2,
      "outputs": [
        {
          "output_type": "stream",
          "text": [
            "   Age Gender Polyuria Polydipsia  ... muscle stiffness Alopecia Obesity     class\n",
            "0   40   Male       No        Yes  ...              Yes      Yes     Yes  Positive\n",
            "1   58   Male       No         No  ...               No      Yes      No  Positive\n",
            "2   41   Male      Yes         No  ...              Yes      Yes      No  Positive\n",
            "3   45   Male       No         No  ...               No       No      No  Positive\n",
            "4   60   Male      Yes        Yes  ...              Yes      Yes     Yes  Positive\n",
            "\n",
            "[5 rows x 17 columns]\n",
            "Number of rows: 520\n",
            "Number of columns: 17\n"
          ],
          "name": "stdout"
        }
      ]
    },
    {
      "cell_type": "code",
      "metadata": {
        "id": "mWq3FtGdpXDb"
      },
      "source": [
        "features_of_interest = [\"Age\", \"Gender\", \"delayed healing\", \"Obesity\", \"class\"]"
      ],
      "execution_count": 3,
      "outputs": []
    },
    {
      "cell_type": "code",
      "metadata": {
        "id": "foL1HttkqxPh",
        "outputId": "94412802-091a-440a-90ae-94e4259ebc64",
        "colab": {
          "base_uri": "https://localhost:8080/",
          "height": 1000
        }
      },
      "source": [
        "for feature in features_of_interest:\n",
        "  print(dataset[feature].value_counts(sort=False))\n",
        "  print(dataset[feature].value_counts(sort=False, normalize=True))\n",
        "  print(\"\\n\")"
      ],
      "execution_count": 4,
      "outputs": [
        {
          "output_type": "stream",
          "text": [
            "16     1\n",
            "25     2\n",
            "26     1\n",
            "27     6\n",
            "28     9\n",
            "29     1\n",
            "30    25\n",
            "31     3\n",
            "32     5\n",
            "33     4\n",
            "34     6\n",
            "35    30\n",
            "36     8\n",
            "37     7\n",
            "38    20\n",
            "39    16\n",
            "40    24\n",
            "41     4\n",
            "42     9\n",
            "43    25\n",
            "44     7\n",
            "45    18\n",
            "46     8\n",
            "47    21\n",
            "48    28\n",
            "49     7\n",
            "50    18\n",
            "51     5\n",
            "52     4\n",
            "53    20\n",
            "54    16\n",
            "55    22\n",
            "56     8\n",
            "57    15\n",
            "58    18\n",
            "59     4\n",
            "60    15\n",
            "61     8\n",
            "62     7\n",
            "63     3\n",
            "64     5\n",
            "65     6\n",
            "66     9\n",
            "67     8\n",
            "68    10\n",
            "69     5\n",
            "70     5\n",
            "72     9\n",
            "79     1\n",
            "85     2\n",
            "90     2\n",
            "Name: Age, dtype: int64\n",
            "16    0.001923\n",
            "25    0.003846\n",
            "26    0.001923\n",
            "27    0.011538\n",
            "28    0.017308\n",
            "29    0.001923\n",
            "30    0.048077\n",
            "31    0.005769\n",
            "32    0.009615\n",
            "33    0.007692\n",
            "34    0.011538\n",
            "35    0.057692\n",
            "36    0.015385\n",
            "37    0.013462\n",
            "38    0.038462\n",
            "39    0.030769\n",
            "40    0.046154\n",
            "41    0.007692\n",
            "42    0.017308\n",
            "43    0.048077\n",
            "44    0.013462\n",
            "45    0.034615\n",
            "46    0.015385\n",
            "47    0.040385\n",
            "48    0.053846\n",
            "49    0.013462\n",
            "50    0.034615\n",
            "51    0.009615\n",
            "52    0.007692\n",
            "53    0.038462\n",
            "54    0.030769\n",
            "55    0.042308\n",
            "56    0.015385\n",
            "57    0.028846\n",
            "58    0.034615\n",
            "59    0.007692\n",
            "60    0.028846\n",
            "61    0.015385\n",
            "62    0.013462\n",
            "63    0.005769\n",
            "64    0.009615\n",
            "65    0.011538\n",
            "66    0.017308\n",
            "67    0.015385\n",
            "68    0.019231\n",
            "69    0.009615\n",
            "70    0.009615\n",
            "72    0.017308\n",
            "79    0.001923\n",
            "85    0.003846\n",
            "90    0.003846\n",
            "Name: Age, dtype: float64\n",
            "\n",
            "\n",
            "Female    192\n",
            "Male      328\n",
            "Name: Gender, dtype: int64\n",
            "Female    0.369231\n",
            "Male      0.630769\n",
            "Name: Gender, dtype: float64\n",
            "\n",
            "\n",
            "Yes    239\n",
            "No     281\n",
            "Name: delayed healing, dtype: int64\n",
            "Yes    0.459615\n",
            "No     0.540385\n",
            "Name: delayed healing, dtype: float64\n",
            "\n",
            "\n",
            "Yes     88\n",
            "No     432\n",
            "Name: Obesity, dtype: int64\n",
            "Yes    0.169231\n",
            "No     0.830769\n",
            "Name: Obesity, dtype: float64\n",
            "\n",
            "\n",
            "Negative    200\n",
            "Positive    320\n",
            "Name: class, dtype: int64\n",
            "Negative    0.384615\n",
            "Positive    0.615385\n",
            "Name: class, dtype: float64\n",
            "\n",
            "\n"
          ],
          "name": "stdout"
        }
      ]
    },
    {
      "cell_type": "markdown",
      "metadata": {
        "id": "0MzPhpcfKoIy"
      },
      "source": [
        "The sample contains data of 520 random people. First two questions were ovious ones; their age and gender. There were people of all ages. 63% of them were females and 37% of them were males.\n",
        "\n",
        "The next question was \"If you get injured, does it take longer to heal than normally?\" 46% answered \"Yes\" and the rest answered \"No\".\n",
        "\n",
        "Next question was \"Is your BMI over 30?\" (having BMI over 30 is considered obesity) To which 17% answered yes and 83% answered \"No\".\n",
        "\n",
        "The last question was \"Do you have diabetes?\" 61.5% had diabetes whereas 38.5% people didn't."
      ]
    },
    {
      "cell_type": "code",
      "metadata": {
        "id": "o85kFJLjKEil"
      },
      "source": [
        ""
      ],
      "execution_count": 4,
      "outputs": []
    }
  ]
}