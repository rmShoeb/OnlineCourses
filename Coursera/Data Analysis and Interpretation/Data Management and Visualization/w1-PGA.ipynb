{
  "nbformat": 4,
  "nbformat_minor": 0,
  "metadata": {
    "colab": {
      "name": "w1-PGA.ipynb",
      "provenance": []
    },
    "kernelspec": {
      "name": "python3",
      "display_name": "Python 3"
    }
  },
  "cells": [
    {
      "cell_type": "markdown",
      "metadata": {
        "id": "l5DEArex61CK"
      },
      "source": [
        "I have recently started learning about machine learning. For beginners in this field, like me, it is recommended to use the [Iris dataset](https://github.com/scikit-learn/scikit-learn/blob/master/sklearn/datasets/data/iris.csv). So, I have decided to work with this. My goal is to find out if it is possible to classify a certain data using one of its features. If not, then try with two features. I intend to find out which feature or features helps the best to classify the iris dataset.\n",
        "\n",
        "So, the question I have in mind is, is it possible to classify the iris dataset using one or two of its features (or variables)?\n",
        "\n",
        "The article [Statistical Analysis of the Iris Flower Dataset](http://patrickhoey.com/downloads/Computer_Science/03_Patrick_Hoey_Data_Visualization_Dataset_paper.pdf) shows some insight of the dataset. It looks like the dataset can be classified without all of its features.\n",
        "\n",
        "This notebook in kaggle, named [Classification with iris](https://www.kaggle.com/roswellwayoff/classification-with-iris) describes a classification method while [this](https://towardsdatascience.com/classification-basics-walk-through-with-the-iris-data-set-d46b0331bf82) article generalizes the idea.\n",
        "\n",
        "So, after searching for possibilities, I think it is safe to say that the iris dataset can be classified with one or two features only."
      ]
    },
    {
      "cell_type": "code",
      "metadata": {
        "id": "6C8Ezb_q6u4t"
      },
      "source": [
        ""
      ],
      "execution_count": null,
      "outputs": []
    }
  ]
}