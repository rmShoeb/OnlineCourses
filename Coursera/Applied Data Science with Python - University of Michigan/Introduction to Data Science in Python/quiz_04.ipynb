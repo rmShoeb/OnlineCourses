{
  "nbformat": 4,
  "nbformat_minor": 0,
  "metadata": {
    "colab": {
      "name": "quiz-04.ipynb",
      "provenance": []
    },
    "kernelspec": {
      "name": "python3",
      "display_name": "Python 3"
    }
  },
  "cells": [
    {
      "cell_type": "markdown",
      "metadata": {
        "id": "MBrOZ67Ip7Dg"
      },
      "source": [
        "**Q1**\r\n",
        "----"
      ]
    },
    {
      "cell_type": "code",
      "metadata": {
        "id": "R7ReN5BMoIMf"
      },
      "source": [
        "import numpy as np\r\n",
        "\r\n",
        "a = np.arange(8)\r\n",
        "b = a[4:6]\r\n",
        "b[:] = 40\r\n",
        "c = a[4] + a[6]"
      ],
      "execution_count": 1,
      "outputs": []
    },
    {
      "cell_type": "code",
      "metadata": {
        "colab": {
          "base_uri": "https://localhost:8080/"
        },
        "id": "7L4_go0uoKHZ",
        "outputId": "63449727-f5e7-4737-dbf1-110a1be4b027"
      },
      "source": [
        "print(c)"
      ],
      "execution_count": 2,
      "outputs": [
        {
          "output_type": "stream",
          "text": [
            "46\n"
          ],
          "name": "stdout"
        }
      ]
    },
    {
      "cell_type": "code",
      "metadata": {
        "colab": {
          "base_uri": "https://localhost:8080/"
        },
        "id": "R3BtnoOVoQBC",
        "outputId": "7755414e-a674-45a7-db75-c100f9189af6"
      },
      "source": [
        "a"
      ],
      "execution_count": 3,
      "outputs": [
        {
          "output_type": "execute_result",
          "data": {
            "text/plain": [
              "array([ 0,  1,  2,  3, 40, 40,  6,  7])"
            ]
          },
          "metadata": {
            "tags": []
          },
          "execution_count": 3
        }
      ]
    },
    {
      "cell_type": "markdown",
      "metadata": {
        "id": "rqVxnY-aqAxH"
      },
      "source": [
        "**Q2**\r\n",
        "----"
      ]
    },
    {
      "cell_type": "code",
      "metadata": {
        "id": "ka0LjDxVoW-c"
      },
      "source": [
        "import re\r\n",
        "s = 'ABCAC'"
      ],
      "execution_count": 4,
      "outputs": []
    },
    {
      "cell_type": "code",
      "metadata": {
        "colab": {
          "base_uri": "https://localhost:8080/"
        },
        "id": "s57wRLE6ob4n",
        "outputId": "ad5d18c3-66f6-4ac1-984f-f12789a207d4"
      },
      "source": [
        "len(re.split('A', s)) == 2"
      ],
      "execution_count": 5,
      "outputs": [
        {
          "output_type": "execute_result",
          "data": {
            "text/plain": [
              "False"
            ]
          },
          "metadata": {
            "tags": []
          },
          "execution_count": 5
        }
      ]
    },
    {
      "cell_type": "code",
      "metadata": {
        "colab": {
          "base_uri": "https://localhost:8080/"
        },
        "id": "elvaDybSod_w",
        "outputId": "6b93d17a-6ce5-4ebf-d8c6-9744cacf8ab9"
      },
      "source": [
        "bool(re.match('A', s)) == True"
      ],
      "execution_count": 6,
      "outputs": [
        {
          "output_type": "execute_result",
          "data": {
            "text/plain": [
              "True"
            ]
          },
          "metadata": {
            "tags": []
          },
          "execution_count": 6
        }
      ]
    },
    {
      "cell_type": "markdown",
      "metadata": {
        "id": "11hX9Q4RqGXA"
      },
      "source": [
        "**Q3**\r\n",
        "----"
      ]
    },
    {
      "cell_type": "code",
      "metadata": {
        "id": "wbGUxP_Cof-j"
      },
      "source": [
        "def result():\r\n",
        "    s = 'ACAABAACAAABACDBADDDFSDDDFFSSSASDAFAAACBAAAFASD'\r\n",
        "    result = re.findall('(\\S)AAA', s)\r\n",
        "    # result = []\r\n",
        "    # # compete the pattern below\r\n",
        "    # pattern = 'AAA(\\S)\\S'\r\n",
        "    # for item in re.finditer(pattern, s):\r\n",
        "    #   # identify the group number below.\r\n",
        "    #   result.append(item.group())\r\n",
        "      \r\n",
        "    return result"
      ],
      "execution_count": 39,
      "outputs": []
    },
    {
      "cell_type": "code",
      "metadata": {
        "colab": {
          "base_uri": "https://localhost:8080/"
        },
        "id": "Oa2zoCOepFZd",
        "outputId": "98672b42-05e3-4011-fe90-8aba17c963bd"
      },
      "source": [
        "result()"
      ],
      "execution_count": 40,
      "outputs": [
        {
          "output_type": "execute_result",
          "data": {
            "text/plain": [
              "['C', 'F', 'B']"
            ]
          },
          "metadata": {
            "tags": []
          },
          "execution_count": 40
        }
      ]
    },
    {
      "cell_type": "markdown",
      "metadata": {
        "id": "hKv4gQb2qKOe"
      },
      "source": [
        "**Q4**\r\n",
        "----"
      ]
    },
    {
      "cell_type": "code",
      "metadata": {
        "id": "wx80dJHRpHH5"
      },
      "source": [
        "import pandas as pd"
      ],
      "execution_count": 19,
      "outputs": []
    },
    {
      "cell_type": "code",
      "metadata": {
        "colab": {
          "base_uri": "https://localhost:8080/"
        },
        "id": "O7kKg9mEqQkF",
        "outputId": "c390e50f-b408-40a4-ea79-a1d04135abe0"
      },
      "source": [
        "df = pd.Series({'d':4, 'b': 7, 'a':-5, 'c':3})\r\n",
        "df"
      ],
      "execution_count": 20,
      "outputs": [
        {
          "output_type": "execute_result",
          "data": {
            "text/plain": [
              "d    4\n",
              "b    7\n",
              "a   -5\n",
              "c    3\n",
              "dtype: int64"
            ]
          },
          "metadata": {
            "tags": []
          },
          "execution_count": 20
        }
      ]
    },
    {
      "cell_type": "code",
      "metadata": {
        "colab": {
          "base_uri": "https://localhost:8080/",
          "height": 35
        },
        "id": "XM3Y7Y6Lqd3k",
        "outputId": "706590db-96b2-4600-a5fa-7765e2f0470b"
      },
      "source": [
        "df.index[0]"
      ],
      "execution_count": 21,
      "outputs": [
        {
          "output_type": "execute_result",
          "data": {
            "application/vnd.google.colaboratory.intrinsic+json": {
              "type": "string"
            },
            "text/plain": [
              "'d'"
            ]
          },
          "metadata": {
            "tags": []
          },
          "execution_count": 21
        }
      ]
    },
    {
      "cell_type": "code",
      "metadata": {
        "colab": {
          "base_uri": "https://localhost:8080/"
        },
        "id": "XuCl_731qhP0",
        "outputId": "40dd4c1f-225a-4950-9f22-07560d78f5a2"
      },
      "source": [
        "df['d']"
      ],
      "execution_count": 22,
      "outputs": [
        {
          "output_type": "execute_result",
          "data": {
            "text/plain": [
              "4"
            ]
          },
          "metadata": {
            "tags": []
          },
          "execution_count": 22
        }
      ]
    },
    {
      "cell_type": "code",
      "metadata": {
        "colab": {
          "base_uri": "https://localhost:8080/"
        },
        "id": "UDjbacr-qirG",
        "outputId": "8d757501-4df2-446d-aaab-710df82b4ad2"
      },
      "source": [
        "df[0]"
      ],
      "execution_count": 23,
      "outputs": [
        {
          "output_type": "execute_result",
          "data": {
            "text/plain": [
              "4"
            ]
          },
          "metadata": {
            "tags": []
          },
          "execution_count": 23
        }
      ]
    },
    {
      "cell_type": "code",
      "metadata": {
        "colab": {
          "base_uri": "https://localhost:8080/"
        },
        "id": "W4x--4jlqkVK",
        "outputId": "68af4113-145c-4990-c19d-96f7ef585f7c"
      },
      "source": [
        "df.iloc[0]"
      ],
      "execution_count": 24,
      "outputs": [
        {
          "output_type": "execute_result",
          "data": {
            "text/plain": [
              "4"
            ]
          },
          "metadata": {
            "tags": []
          },
          "execution_count": 24
        }
      ]
    },
    {
      "cell_type": "markdown",
      "metadata": {
        "id": "iwz2ySDeqyhe"
      },
      "source": [
        "**Q5**\r\n",
        "----"
      ]
    },
    {
      "cell_type": "code",
      "metadata": {
        "id": "gAAubrRbqlrL"
      },
      "source": [
        "s1 = pd.Series({'Mango':20, 'Strawberry':15, 'Blueberry':18, 'Vanilla':31})\r\n",
        "s2 = pd.Series({'Strawberry':20, 'Vanilla':30, 'Banana':15, 'Mango':20, 'Plain':20})"
      ],
      "execution_count": 25,
      "outputs": []
    },
    {
      "cell_type": "code",
      "metadata": {
        "id": "Ul3UPirHrXR6"
      },
      "source": [
        "s3 = s1.add(s2)"
      ],
      "execution_count": 26,
      "outputs": []
    },
    {
      "cell_type": "code",
      "metadata": {
        "colab": {
          "base_uri": "https://localhost:8080/"
        },
        "id": "ANCDKj2yrZWl",
        "outputId": "ba6c4775-71de-440a-ebdc-34e6a5217828"
      },
      "source": [
        "s3"
      ],
      "execution_count": 27,
      "outputs": [
        {
          "output_type": "execute_result",
          "data": {
            "text/plain": [
              "Banana         NaN\n",
              "Blueberry      NaN\n",
              "Mango         40.0\n",
              "Plain          NaN\n",
              "Strawberry    35.0\n",
              "Vanilla       61.0\n",
              "dtype: float64"
            ]
          },
          "metadata": {
            "tags": []
          },
          "execution_count": 27
        }
      ]
    },
    {
      "cell_type": "code",
      "metadata": {
        "colab": {
          "base_uri": "https://localhost:8080/"
        },
        "id": "640T0hQ9ra_y",
        "outputId": "e657403c-c5c4-4e01-e9f2-d2cfd138969a"
      },
      "source": [
        "s3['Mango'] >=  s1.add(s2, fill_value = 0)['Mango']"
      ],
      "execution_count": 28,
      "outputs": [
        {
          "output_type": "execute_result",
          "data": {
            "text/plain": [
              "True"
            ]
          },
          "metadata": {
            "tags": []
          },
          "execution_count": 28
        }
      ]
    },
    {
      "cell_type": "code",
      "metadata": {
        "colab": {
          "base_uri": "https://localhost:8080/"
        },
        "id": "qFtpYCvRrf5Y",
        "outputId": "cef2974b-3fcb-4ccc-b7a7-1b331cca9137"
      },
      "source": [
        "s3['Blueberry'] == s1['Blueberry']"
      ],
      "execution_count": 29,
      "outputs": [
        {
          "output_type": "execute_result",
          "data": {
            "text/plain": [
              "False"
            ]
          },
          "metadata": {
            "tags": []
          },
          "execution_count": 29
        }
      ]
    },
    {
      "cell_type": "code",
      "metadata": {
        "colab": {
          "base_uri": "https://localhost:8080/"
        },
        "id": "eheDoUjirhlO",
        "outputId": "773ebf21-4cce-4f93-b817-9dd4b45800ef"
      },
      "source": [
        "s3['Blueberry'] == s1.add(s2, fill_value = 0)['Blueberry']"
      ],
      "execution_count": 30,
      "outputs": [
        {
          "output_type": "execute_result",
          "data": {
            "text/plain": [
              "False"
            ]
          },
          "metadata": {
            "tags": []
          },
          "execution_count": 30
        }
      ]
    },
    {
      "cell_type": "code",
      "metadata": {
        "colab": {
          "base_uri": "https://localhost:8080/"
        },
        "id": "UGWZ3dMgrkcS",
        "outputId": "527331fc-e686-4dc0-fe76-12c2afb477f7"
      },
      "source": [
        "s3['Plain'] >= s3['Mango']"
      ],
      "execution_count": 31,
      "outputs": [
        {
          "output_type": "execute_result",
          "data": {
            "text/plain": [
              "False"
            ]
          },
          "metadata": {
            "tags": []
          },
          "execution_count": 31
        }
      ]
    },
    {
      "cell_type": "markdown",
      "metadata": {
        "id": "JfMSUhgTr0iQ"
      },
      "source": [
        "**Q7**\r\n",
        "----"
      ]
    },
    {
      "cell_type": "code",
      "metadata": {
        "id": "fciSgIj9rmH4"
      },
      "source": [
        "S = pd.Series(np.arange(5), index=['a', 'b', 'c', 'd', 'e'])"
      ],
      "execution_count": 32,
      "outputs": []
    },
    {
      "cell_type": "code",
      "metadata": {
        "colab": {
          "base_uri": "https://localhost:8080/"
        },
        "id": "6TV4lSjfs0cv",
        "outputId": "3fabf16a-0b2f-493b-f503-79f36f321ad6"
      },
      "source": [
        "S['b':'e']"
      ],
      "execution_count": 33,
      "outputs": [
        {
          "output_type": "execute_result",
          "data": {
            "text/plain": [
              "b    1\n",
              "c    2\n",
              "d    3\n",
              "e    4\n",
              "dtype: int64"
            ]
          },
          "metadata": {
            "tags": []
          },
          "execution_count": 33
        }
      ]
    },
    {
      "cell_type": "code",
      "metadata": {
        "colab": {
          "base_uri": "https://localhost:8080/"
        },
        "id": "cBBFBRDls3TM",
        "outputId": "dabb1400-703a-4fdc-d814-bbb3f7a74d6c"
      },
      "source": [
        "S[['b', 'c', 'd']]"
      ],
      "execution_count": 34,
      "outputs": [
        {
          "output_type": "execute_result",
          "data": {
            "text/plain": [
              "b    1\n",
              "c    2\n",
              "d    3\n",
              "dtype: int64"
            ]
          },
          "metadata": {
            "tags": []
          },
          "execution_count": 34
        }
      ]
    },
    {
      "cell_type": "code",
      "metadata": {
        "colab": {
          "base_uri": "https://localhost:8080/"
        },
        "id": "kIyuVFfOs5Bg",
        "outputId": "9c7a9126-09c0-471c-9353-f51a81a0b1cb"
      },
      "source": [
        "S[S <= 3][S > 0]"
      ],
      "execution_count": 35,
      "outputs": [
        {
          "output_type": "execute_result",
          "data": {
            "text/plain": [
              "b    1\n",
              "c    2\n",
              "d    3\n",
              "dtype: int64"
            ]
          },
          "metadata": {
            "tags": []
          },
          "execution_count": 35
        }
      ]
    },
    {
      "cell_type": "code",
      "metadata": {
        "colab": {
          "base_uri": "https://localhost:8080/"
        },
        "id": "bLXL87Aas9ik",
        "outputId": "8a1e458a-daf6-400d-d275-220c2a535099"
      },
      "source": [
        "S[1:4]"
      ],
      "execution_count": 36,
      "outputs": [
        {
          "output_type": "execute_result",
          "data": {
            "text/plain": [
              "b    1\n",
              "c    2\n",
              "d    3\n",
              "dtype: int64"
            ]
          },
          "metadata": {
            "tags": []
          },
          "execution_count": 36
        }
      ]
    },
    {
      "cell_type": "markdown",
      "metadata": {
        "id": "CKGVxST5tF5N"
      },
      "source": [
        "**Q8**\r\n",
        "----"
      ]
    },
    {
      "cell_type": "code",
      "metadata": {
        "id": "T9_k26Mrs_G7"
      },
      "source": [
        "df = pd.DataFrame.from_dict({'R1': [5,6,20],\r\n",
        "                             'R2': [5,82,28],\r\n",
        "                             'R3': [71,31,92],\r\n",
        "                             'R4': [67,37,49]})"
      ],
      "execution_count": 41,
      "outputs": []
    },
    {
      "cell_type": "code",
      "metadata": {
        "id": "Mti_ENhkwLMj"
      },
      "source": [
        "f = lambda x: x.max() + x.min()\r\n",
        "df_new = df.apply(f)"
      ],
      "execution_count": 42,
      "outputs": []
    },
    {
      "cell_type": "code",
      "metadata": {
        "colab": {
          "base_uri": "https://localhost:8080/"
        },
        "id": "Atz_4I2CwQ-h",
        "outputId": "1bfb23a0-7e09-4205-ad50-699bffc0914c"
      },
      "source": [
        "df_new[1]"
      ],
      "execution_count": 43,
      "outputs": [
        {
          "output_type": "execute_result",
          "data": {
            "text/plain": [
              "87"
            ]
          },
          "metadata": {
            "tags": []
          },
          "execution_count": 43
        }
      ]
    },
    {
      "cell_type": "code",
      "metadata": {
        "id": "y1DwURouwRv6"
      },
      "source": [
        ""
      ],
      "execution_count": null,
      "outputs": []
    }
  ]
}